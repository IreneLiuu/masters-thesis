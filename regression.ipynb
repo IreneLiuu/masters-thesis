{
 "cells": [
  {
   "cell_type": "code",
   "execution_count": 1,
   "metadata": {},
   "outputs": [],
   "source": [
    "import pandas as pd\n",
    "\n",
    "import numpy as np\n",
    "import matplotlib.pyplot as plt\n",
    "\n",
    "import sklearn.linear_model as lm\n",
    "from  sklearn.linear_model import (LinearRegression, TheilSenRegressor, RANSACRegressor, HuberRegressor)\n",
    "from sklearn.metrics import mean_squared_error , r2_score\n",
    "from sklearn.preprocessing import PolynomialFeatures\n",
    "from sklearn.pipeline import make_pipeline\n",
    "\n",
    "import seaborn as sns\n",
    "\n",
    "import statsmodels.formula.api as smf\n",
    "import statsmodels.stats.api as sms\n",
    "from scipy import stats\n",
    "from statsmodels.compat import lzip\n",
    "import statsmodels\n",
    "\n",
    "from itertools import groupby\n",
    "from operator import itemgetter\n",
    "\n",
    "import copy\n",
    "\n",
    "from IPython.core.interactiveshell import InteractiveShell\n",
    "InteractiveShell.ast_node_interactivity = \"all\"\n",
    "\n",
    "import warnings\n",
    "from sklearn.exceptions import DataConversionWarning\n",
    "warnings.filterwarnings('ignore', category=UserWarning)"
   ]
  },
  {
   "attachments": {},
   "cell_type": "markdown",
   "metadata": {},
   "source": [
    "## Read datafile"
   ]
  },
  {
   "cell_type": "code",
   "execution_count": 2,
   "metadata": {},
   "outputs": [
    {
     "data": {
      "text/plain": [
       "'Datapoints unfiltered'"
      ]
     },
     "execution_count": 2,
     "metadata": {},
     "output_type": "execute_result"
    },
    {
     "data": {
      "text/plain": [
       "558"
      ]
     },
     "execution_count": 2,
     "metadata": {},
     "output_type": "execute_result"
    }
   ],
   "source": [
    "df= pd.read_csv(\"MTL+PLS.csv\", delimiter=\";\", skipinitialspace=True)\n",
    "\"Datapoints unfiltered\"\n",
    "len(df)\n",
    "\n",
    "datasets = {}"
   ]
  },
  {
   "attachments": {},
   "cell_type": "markdown",
   "metadata": {},
   "source": [
    "## Filter dataset"
   ]
  },
  {
   "cell_type": "code",
   "execution_count": 3,
   "metadata": {},
   "outputs": [
    {
     "data": {
      "text/plain": [
       "\"Datapoints where 'order_qty' > 0\""
      ]
     },
     "execution_count": 3,
     "metadata": {},
     "output_type": "execute_result"
    },
    {
     "data": {
      "text/plain": [
       "354"
      ]
     },
     "execution_count": 3,
     "metadata": {},
     "output_type": "execute_result"
    },
    {
     "data": {
      "text/plain": [
       "\"Datapoints where 'turnover_days' >= 0\""
      ]
     },
     "execution_count": 3,
     "metadata": {},
     "output_type": "execute_result"
    },
    {
     "data": {
      "text/plain": [
       "305"
      ]
     },
     "execution_count": 3,
     "metadata": {},
     "output_type": "execute_result"
    },
    {
     "data": {
      "text/plain": [
       "\"Datapoints where 'lot_size' is not empty\""
      ]
     },
     "execution_count": 3,
     "metadata": {},
     "output_type": "execute_result"
    },
    {
     "data": {
      "text/plain": [
       "305"
      ]
     },
     "execution_count": 3,
     "metadata": {},
     "output_type": "execute_result"
    }
   ],
   "source": [
    "df['order_qty'] = pd.to_numeric(df['order_qty'], errors='coerce')\n",
    "\n",
    "df = df[df['order_qty'] > 0]\n",
    "\"Datapoints where 'order_qty' > 0\"\n",
    "len(df)\n",
    "\n",
    "df = df[df['turnover_days'] >= 0]\n",
    "\"Datapoints where 'turnover_days' >= 0\"\n",
    "len(df)\n",
    "\n",
    "df = df[df['lot_size'].notna()]\n",
    "\"Datapoints where 'lot_size' is not empty\"\n",
    "len(df)\n",
    "\n",
    "# df = df[df['forecast_error'].notna()]\n",
    "# \"Datapoints where 'forecast_error' is not empty\"\n",
    "# len(df)\n",
    "\n",
    "\n"
   ]
  },
  {
   "attachments": {},
   "cell_type": "markdown",
   "metadata": {},
   "source": [
    "## Divide dataset"
   ]
  },
  {
   "cell_type": "code",
   "execution_count": 4,
   "metadata": {},
   "outputs": [
    {
     "data": {
      "text/plain": [
       "'df_slob_only item count'"
      ]
     },
     "execution_count": 4,
     "metadata": {},
     "output_type": "execute_result"
    },
    {
     "data": {
      "text/plain": [
       "91"
      ]
     },
     "execution_count": 4,
     "metadata": {},
     "output_type": "execute_result"
    }
   ],
   "source": [
    "datasets.update({\"slob_only\": df[df['turnover_days'] >= 90]})\n",
    "\"df_slob_only item count\"\n",
    "len(datasets[\"slob_only\"])\n"
   ]
  },
  {
   "attachments": {},
   "cell_type": "markdown",
   "metadata": {},
   "source": [
    "### Remove outluers and create new dataset"
   ]
  },
  {
   "cell_type": "code",
   "execution_count": 5,
   "metadata": {},
   "outputs": [],
   "source": [
    "def remove_outliers(input_df, filter_values):\n",
    "    # Create an empty DataFrame to store the filtered values\n",
    "    filtered_values_df = pd.DataFrame()\n",
    "\n",
    "    # Apply the filters\n",
    "    for column, quantile in filter_values.items():\n",
    "        # Find values that are above the quantile\n",
    "        is_above_quantile = input_df[column] > input_df[column].quantile(quantile)\n",
    "\n",
    "        # Store these values in the filtered values DataFrame\n",
    "        filtered_values_df = pd.concat([filtered_values_df, input_df[is_above_quantile]])\n",
    "\n",
    "        # Remove these values from the original DataFrame\n",
    "        input_df = input_df[~is_above_quantile]\n",
    "\n",
    "    # Remove duplicates from the filtered values DataFrame\n",
    "    filtered_values_df = filtered_values_df.drop_duplicates()\n",
    "\n",
    "    return input_df, filtered_values_df"
   ]
  },
  {
   "cell_type": "code",
   "execution_count": 6,
   "metadata": {},
   "outputs": [],
   "source": [
    "# 0.999 Quantile filter values\n",
    "filter_values_0_999 = {\n",
    "    \"lot_size\": 0.999,\n",
    "    \"moq\": 0.999,\n",
    "    \"safety_stock\": 1,\n",
    "    \"lead_time\": 0.999,\n",
    "    \"turnover_days\": 1,\n",
    "    \"average_stock_level\": 0.999,\n",
    "    \"order_qty\": 1,\n",
    "    \"consumption\": 1\n",
    "}\n",
    "\n",
    "# 0.99 Quantile filter values\n",
    "filter_values_0_99 = {\n",
    "    \"lot_size\": 0.99,\n",
    "    \"moq\": 0.99,\n",
    "    \"safety_stock\": 1,\n",
    "    \"lead_time\": 0.99,\n",
    "    \"turnover_days\": 1,\n",
    "    \"average_stock_level\": 0.99,\n",
    "    \"order_qty\": 1,\n",
    "    \"consumption\": 1\n",
    "}\n",
    "\n",
    "\n",
    "\n",
    "# slob_only_outliers_removed, slob_only_filtered_values = remove_outliers(datasets[\"slob_only\"], filter_values_0_999)\n",
    "# print(\"slob_only_0.999_outliers_removed item count\")\n",
    "# print(len(slob_only_filtered_values))\n",
    "# datasets.update({\"slob_only_0.999_outliers_removed\": slob_only_outliers_removed})\n",
    "\n",
    "# slob_only_outliers_removed, slob_only_filtered_values = remove_outliers(datasets[\"slob_only\"], filter_values_0_99)\n",
    "# print(\"slob_only_0.99_outliers_removed item count\")\n",
    "# print(len(slob_only_filtered_values))\n",
    "# datasets.update({\"slob_only_0.99_outliers_removed\": slob_only_outliers_removed})\n"
   ]
  },
  {
   "cell_type": "code",
   "execution_count": null,
   "metadata": {},
   "outputs": [],
   "source": [
    "datasets"
   ]
  },
  {
   "cell_type": "code",
   "execution_count": 8,
   "metadata": {},
   "outputs": [],
   "source": [
    "# slob_only_filtered_values"
   ]
  },
  {
   "attachments": {},
   "cell_type": "markdown",
   "metadata": {},
   "source": [
    "## Examine datasets"
   ]
  },
  {
   "cell_type": "code",
   "execution_count": null,
   "metadata": {},
   "outputs": [],
   "source": [
    "for dataset_name, dataset in datasets.items():\n",
    "    \"Current dataset: \" + dataset_name\n",
    "    dataset.describe().apply(lambda s: s.apply('{0:.2f}'.format))\n"
   ]
  },
  {
   "attachments": {},
   "cell_type": "markdown",
   "metadata": {},
   "source": [
    "## Visual Inspection and Log Transformation of Average Stock Level Data"
   ]
  },
  {
   "cell_type": "code",
   "execution_count": null,
   "metadata": {},
   "outputs": [],
   "source": [
    "\n",
    "# Temporary dictionary for new datasets\n",
    "new_datasets = {}\n",
    "\n",
    "# Histogram and Density plot before transformation\n",
    "for dataset_name, dataset in datasets.items():\n",
    "    print(\"Current dataset: \", dataset_name)\n",
    "    plt.figure(figsize=(10, 4))\n",
    "    plt.subplot(1, 2, 1)\n",
    "    sns.histplot(dataset['average_stock_level'], kde=False, bins=30)\n",
    "    plt.title('Histogram of Average Stock Level')\n",
    "    plt.subplot(1, 2, 2)\n",
    "    sns.kdeplot(dataset['average_stock_level'])\n",
    "    plt.title('Density Plot of Average Stock Level')\n",
    "    plt.show()\n",
    "    \n",
    "    # Copy the original dataset\n",
    "    new_dataset = copy.deepcopy(dataset)\n",
    "    \n",
    "    # Applying log transformation to 'average_stock_level'\n",
    "    new_dataset['average_stock_level'] = np.log(new_dataset['average_stock_level'])\n",
    "    \n",
    "    # Add the new dataset to the temporary dictionary\n",
    "    new_datasets[dataset_name + '_log'] = new_dataset\n",
    "    \n",
    "    # Histogram and Density plot after transformation\n",
    "    plt.figure(figsize=(10, 4))\n",
    "    plt.subplot(1, 2, 1)\n",
    "    sns.histplot(new_dataset['average_stock_level'], kde=False, bins=30)\n",
    "    plt.title('Histogram of Log Transformed Average Stock Level')\n",
    "    plt.subplot(1, 2, 2)\n",
    "    sns.kdeplot(new_dataset['average_stock_level'])\n",
    "    plt.title('Density Plot of Log Transformed Average Stock Level')\n",
    "    plt.show()\n",
    "\n",
    "# Update the original dictionary with the new datasets\n",
    "# datasets.update(new_datasets)\n",
    "\n",
    "# Replace the original dictionary with the new datasets\n",
    "datasets = new_datasets\n",
    "\n"
   ]
  },
  {
   "attachments": {},
   "cell_type": "markdown",
   "metadata": {},
   "source": [
    "## Examine datasets"
   ]
  },
  {
   "cell_type": "code",
   "execution_count": 39,
   "metadata": {},
   "outputs": [
    {
     "data": {
      "text/plain": [
       "['slob_only_log']"
      ]
     },
     "execution_count": 39,
     "metadata": {},
     "output_type": "execute_result"
    }
   ],
   "source": [
    "list(datasets)"
   ]
  },
  {
   "cell_type": "code",
   "execution_count": null,
   "metadata": {},
   "outputs": [],
   "source": [
    "from IPython.display import display, HTML\n",
    "display(HTML(new_datasets['slob_only_log'].to_html()))"
   ]
  },
  {
   "attachments": {},
   "cell_type": "markdown",
   "metadata": {},
   "source": [
    "# Run regression models"
   ]
  },
  {
   "cell_type": "code",
   "execution_count": 12,
   "metadata": {},
   "outputs": [],
   "source": [
    "list_of_dependant_variables = [\n",
    "    \"average_stock_level\"\n",
    "   \n",
    "]\n",
    "list_of_independant_variables = [\n",
    "    \"lot_size\",\n",
    "    \"moq\",\n",
    "    \"lead_time\",\n",
    "    \"safety_stock\",\n",
    "    # \"forecast_error\"\n",
    "]\n",
    "\n",
    "regression_results = []"
   ]
  },
  {
   "cell_type": "code",
   "execution_count": 13,
   "metadata": {},
   "outputs": [],
   "source": [
    "\n",
    "for dataset_name, dataset in datasets.items():\n",
    "    for dependent_variable in list_of_dependant_variables:\n",
    "        for independent_variable in list_of_independant_variables:\n",
    "            \n",
    "            X = dataset[[independent_variable]]\n",
    "            y = dataset[dependent_variable]\n",
    "\n",
    "            lr = LinearRegression().fit(X, y)\n",
    "\n",
    "            regression_results.append({\n",
    "                \"dataset\": dataset_name,\n",
    "                \"dependent_variable\": dependent_variable,\n",
    "                \"independent_variable\": independent_variable,\n",
    "                \"regression_model\": \"linear_regression\",\n",
    "                \"regression_result\": lr.coef_[0],\n",
    "                \"model\": lr,\n",
    "                \"x_min\": X.min(),\n",
    "                \"x_max\": X.max()\n",
    "            })"
   ]
  },
  {
   "cell_type": "code",
   "execution_count": 14,
   "metadata": {},
   "outputs": [],
   "source": [
    "\n",
    "for dataset_name, dataset in datasets.items():\n",
    "    for dependent_variable in list_of_dependant_variables:\n",
    "        for independent_variable in list_of_independant_variables:\n",
    "            \n",
    "            X = dataset[[independent_variable]]\n",
    "            y = dataset[dependent_variable]\n",
    "\n",
    "            huber = HuberRegressor().fit(X, y)\n",
    "\n",
    "            regression_results.append({\n",
    "                \"dataset\": dataset_name,\n",
    "                \"dependent_variable\": dependent_variable,\n",
    "                \"independent_variable\": independent_variable,\n",
    "                \"regression_model\": \"huber_regression\",\n",
    "                \"regression_result\": huber.coef_[0],\n",
    "                \"model\": huber,\n",
    "                \"x_min\": X.min(),\n",
    "                \"x_max\": X.max()\n",
    "            })"
   ]
  },
  {
   "cell_type": "code",
   "execution_count": null,
   "metadata": {},
   "outputs": [],
   "source": [
    "regression_results"
   ]
  },
  {
   "attachments": {},
   "cell_type": "markdown",
   "metadata": {},
   "source": [
    "## Visualize regression models"
   ]
  },
  {
   "attachments": {},
   "cell_type": "markdown",
   "metadata": {},
   "source": [
    "### Visualize all models"
   ]
  },
  {
   "cell_type": "code",
   "execution_count": null,
   "metadata": {},
   "outputs": [],
   "source": [
    "\n",
    "\n",
    "# Group regression results by dataset, dependent_variable, and independent_variable\n",
    "grouped_results = groupby(sorted(regression_results, key=itemgetter('dataset', 'dependent_variable', 'independent_variable')), key=itemgetter('dataset', 'dependent_variable', 'independent_variable'))\n",
    "\n",
    "for (dataset_name, dependent_variable, independent_variable), group in grouped_results:\n",
    "\n",
    "    plt.figure(figsize=(8, 6))\n",
    "\n",
    "    # Retrieve the original data\n",
    "    X = datasets[dataset_name][[independent_variable]]\n",
    "    y = datasets[dataset_name][dependent_variable]\n",
    "    plt.scatter(X, y, label=\"Data\", alpha=0.3);\n",
    "\n",
    "    # Plot each regression model for the group\n",
    "    for result in group:\n",
    "        plotline_X = np.linspace(result[\"x_min\"], result[\"x_max\"], 100).reshape(-1, 1)\n",
    "        plotline_y = result[\"model\"].predict(plotline_X)\n",
    "        plt.plot(plotline_X, plotline_y, label=f\"{result['regression_model']} fit\");\n",
    "\n",
    "    plt.title(f\"Dataset: {dataset_name},\\n\" +\n",
    "              f\"Dependent variable: {dependent_variable},\\n\" +\n",
    "              f\"Independent variable: {independent_variable}\"\n",
    "              );\n",
    "    plt.xlabel(independent_variable);\n",
    "    plt.ylabel(dependent_variable);\n",
    "    plt.legend();\n",
    "    plt.show();\n"
   ]
  },
  {
   "attachments": {},
   "cell_type": "markdown",
   "metadata": {},
   "source": [
    "## Get model statistics"
   ]
  },
  {
   "cell_type": "code",
   "execution_count": 19,
   "metadata": {},
   "outputs": [],
   "source": [
    "def summary(model, X, y):\n",
    "    y_pred = model.predict(X)\n",
    "\n",
    "    print(\"\\n###  Model: \" + type(model).__name__ + \"  ###\")\n",
    "    # print(\"--------------\")\n",
    "    # print(type(model).__name__)  # Model name\n",
    "    # print()\n",
    "\n",
    "    # Coefficients or important features\n",
    "    if hasattr(model, \"coef_\"):\n",
    "        print(f\"Coefficients:\\n{model.coef_}\")\n",
    "\n",
    "    # The intercept\n",
    "    if hasattr(model, \"intercept_\"):\n",
    "        print(f\"Intercept:\\n{model.intercept_}\")\n",
    "\n",
    "    print(\"---- Performance Metrics:\")\n",
    "    print(f\"Mean squared error: {mean_squared_error(y, y_pred):.2f}\")\n",
    "    print(f\"R2 score: {r2_score(y, y_pred):.2f}\\n\")\n",
    "    # print(\"\\n-------------------------\\n\")"
   ]
  },
  {
   "cell_type": "code",
   "execution_count": 20,
   "metadata": {},
   "outputs": [
    {
     "name": "stdout",
     "output_type": "stream",
     "text": [
      "\n",
      "*************************\n",
      "\n",
      "******  Results    ******\n",
      "\n",
      "*************************\n",
      "Dataset: slob_only_log\n",
      "Dependent Variable: average_stock_level\n",
      "Independent Variable: lead_time\n",
      "\n",
      "###  Model: LinearRegression  ###\n",
      "Coefficients:\n",
      "[0.00403118]\n",
      "Intercept:\n",
      "7.277474330681705\n",
      "---- Performance Metrics:\n",
      "Mean squared error: 1.18\n",
      "R2 score: 0.00\n",
      "\n",
      "\n",
      "###  Model: HuberRegressor  ###\n",
      "Coefficients:\n",
      "[0.00436233]\n",
      "Intercept:\n",
      "7.387583174379257\n",
      "---- Performance Metrics:\n",
      "Mean squared error: 1.20\n",
      "R2 score: -0.01\n",
      "\n",
      "\n",
      "*************************\n",
      "\n",
      "******  Results    ******\n",
      "\n",
      "*************************\n",
      "Dataset: slob_only_log\n",
      "Dependent Variable: average_stock_level\n",
      "Independent Variable: lot_size\n",
      "\n",
      "###  Model: LinearRegression  ###\n",
      "Coefficients:\n",
      "[0.02646679]\n",
      "Intercept:\n",
      "7.131253009165811\n",
      "---- Performance Metrics:\n",
      "Mean squared error: 1.16\n",
      "R2 score: 0.02\n",
      "\n",
      "\n",
      "###  Model: HuberRegressor  ###\n",
      "Coefficients:\n",
      "[0.03072951]\n",
      "Intercept:\n",
      "7.223868791981678\n",
      "---- Performance Metrics:\n",
      "Mean squared error: 1.18\n",
      "R2 score: 0.00\n",
      "\n",
      "\n",
      "*************************\n",
      "\n",
      "******  Results    ******\n",
      "\n",
      "*************************\n",
      "Dataset: slob_only_log\n",
      "Dependent Variable: average_stock_level\n",
      "Independent Variable: moq\n",
      "\n",
      "###  Model: LinearRegression  ###\n",
      "Coefficients:\n",
      "[0.00031558]\n",
      "Intercept:\n",
      "6.6249611708537355\n",
      "---- Performance Metrics:\n",
      "Mean squared error: 0.84\n",
      "R2 score: 0.29\n",
      "\n",
      "\n",
      "###  Model: HuberRegressor  ###\n",
      "Coefficients:\n",
      "[0.00027072]\n",
      "Intercept:\n",
      "6.797541423551779\n",
      "---- Performance Metrics:\n",
      "Mean squared error: 0.85\n",
      "R2 score: 0.28\n",
      "\n",
      "\n",
      "*************************\n",
      "\n",
      "******  Results    ******\n",
      "\n",
      "*************************\n",
      "Dataset: slob_only_log\n",
      "Dependent Variable: average_stock_level\n",
      "Independent Variable: safety_stock\n",
      "\n",
      "###  Model: LinearRegression  ###\n",
      "Coefficients:\n",
      "[0.00038314]\n",
      "Intercept:\n",
      "7.359160608676966\n",
      "---- Performance Metrics:\n",
      "Mean squared error: 1.12\n",
      "R2 score: 0.05\n",
      "\n",
      "\n",
      "###  Model: HuberRegressor  ###\n",
      "Coefficients:\n",
      "[0.00046998]\n",
      "Intercept:\n",
      "7.47883097328587\n",
      "---- Performance Metrics:\n",
      "Mean squared error: 1.14\n",
      "R2 score: 0.03\n",
      "\n"
     ]
    }
   ],
   "source": [
    "# Group regression results by dataset, dependent_variable, and independent_variable\n",
    "grouped_results = groupby(sorted(regression_results, key=itemgetter('dataset', 'dependent_variable', 'independent_variable')), key=itemgetter('dataset', 'dependent_variable', 'independent_variable'))\n",
    "\n",
    "for (dataset_name, dependent_variable, independent_variable), group in grouped_results:\n",
    "    print(\"\\n*************************\")\n",
    "    print(\"\\n******  Results    ******\")\n",
    "    print(\"\\n*************************\")\n",
    "    print(f\"Dataset: {dataset_name}\")\n",
    "    print(f\"Dependent Variable: {dependent_variable}\")\n",
    "    print(f\"Independent Variable: {independent_variable}\")\n",
    "\n",
    "    for result in group:\n",
    "        model = result[\"model\"]\n",
    "        X = datasets[result[\"dataset\"]][[result[\"independent_variable\"]]].values\n",
    "        y = datasets[result[\"dataset\"]][result[\"dependent_variable\"]].values\n",
    "        summary(model, X, y)"
   ]
  },
  {
   "attachments": {},
   "cell_type": "markdown",
   "metadata": {},
   "source": [
    "## Residual plot"
   ]
  },
  {
   "cell_type": "code",
   "execution_count": null,
   "metadata": {},
   "outputs": [],
   "source": [
    "# Group regression results by dataset, dependent_variable, and independent_variable\n",
    "grouped_results = groupby(sorted(regression_results, key=itemgetter('dataset', 'dependent_variable', 'independent_variable')), key=itemgetter('dataset', 'dependent_variable', 'independent_variable'))\n",
    "\n",
    "for (dataset_name, dependent_variable, independent_variable), group in grouped_results:\n",
    "    for result in group:\n",
    "        model = result[\"model\"]\n",
    "        X = datasets[result[\"dataset\"]][[result[\"independent_variable\"]]].values\n",
    "        y = datasets[result[\"dataset\"]][result[\"dependent_variable\"]].values\n",
    "        \n",
    "        # Compute and visualize residuals\n",
    "        predictions = model.predict(X)\n",
    "        residuals = y - predictions\n",
    "\n",
    "        plt.figure(figsize=(6, 4))\n",
    "        sns.scatterplot(x=predictions, y=residuals)\n",
    "        plt.axhline(y=0, color='r', linestyle='-')  # Add a horizontal line at y=0 for reference\n",
    "        plt.title(f'Residuals for {type(model).__name__} on {dataset_name} \\n Dependent Variable: {dependent_variable}, Independent Variable: {independent_variable}')\n",
    "        plt.xlabel('Predicted')\n",
    "        plt.ylabel('Residuals')\n",
    "        plt.show()"
   ]
  },
  {
   "attachments": {},
   "cell_type": "markdown",
   "metadata": {},
   "source": [
    "## Multiple Linear Regression result"
   ]
  },
  {
   "cell_type": "code",
   "execution_count": 22,
   "metadata": {},
   "outputs": [
    {
     "data": {
      "text/plain": [
       "'dataset: slob_only_log'"
      ]
     },
     "execution_count": 22,
     "metadata": {},
     "output_type": "execute_result"
    },
    {
     "data": {
      "text/plain": [
       "'dependent_variable: average_stock_level'"
      ]
     },
     "execution_count": 22,
     "metadata": {},
     "output_type": "execute_result"
    },
    {
     "data": {
      "text/html": [
       "<table class=\"simpletable\">\n",
       "<caption>OLS Regression Results</caption>\n",
       "<tr>\n",
       "  <th>Dep. Variable:</th>    <td>average_stock_level</td> <th>  R-squared:         </th> <td>   0.311</td>\n",
       "</tr>\n",
       "<tr>\n",
       "  <th>Model:</th>                    <td>OLS</td>         <th>  Adj. R-squared:    </th> <td>   0.279</td>\n",
       "</tr>\n",
       "<tr>\n",
       "  <th>Method:</th>              <td>Least Squares</td>    <th>  F-statistic:       </th> <td>   9.686</td>\n",
       "</tr>\n",
       "<tr>\n",
       "  <th>Date:</th>              <td>Sun, 16 Jul 2023</td>   <th>  Prob (F-statistic):</th> <td>1.63e-06</td>\n",
       "</tr>\n",
       "<tr>\n",
       "  <th>Time:</th>                  <td>19:44:55</td>       <th>  Log-Likelihood:    </th> <td> -119.84</td>\n",
       "</tr>\n",
       "<tr>\n",
       "  <th>No. Observations:</th>       <td>    91</td>        <th>  AIC:               </th> <td>   249.7</td>\n",
       "</tr>\n",
       "<tr>\n",
       "  <th>Df Residuals:</th>           <td>    86</td>        <th>  BIC:               </th> <td>   262.2</td>\n",
       "</tr>\n",
       "<tr>\n",
       "  <th>Df Model:</th>               <td>     4</td>        <th>                     </th>     <td> </td>   \n",
       "</tr>\n",
       "<tr>\n",
       "  <th>Covariance Type:</th>       <td>nonrobust</td>      <th>                     </th>     <td> </td>   \n",
       "</tr>\n",
       "</table>\n",
       "<table class=\"simpletable\">\n",
       "<tr>\n",
       "        <td></td>          <th>coef</th>     <th>std err</th>      <th>t</th>      <th>P>|t|</th>  <th>[0.025</th>    <th>0.975]</th>  \n",
       "</tr>\n",
       "<tr>\n",
       "  <th>Intercept</th>    <td>    6.5492</td> <td>    0.508</td> <td>   12.900</td> <td> 0.000</td> <td>    5.540</td> <td>    7.558</td>\n",
       "</tr>\n",
       "<tr>\n",
       "  <th>lot_size</th>     <td>    0.0218</td> <td>    0.017</td> <td>    1.271</td> <td> 0.207</td> <td>   -0.012</td> <td>    0.056</td>\n",
       "</tr>\n",
       "<tr>\n",
       "  <th>moq</th>          <td>    0.0003</td> <td> 5.51e-05</td> <td>    5.532</td> <td> 0.000</td> <td>    0.000</td> <td>    0.000</td>\n",
       "</tr>\n",
       "<tr>\n",
       "  <th>lead_time</th>    <td>   -0.0044</td> <td>    0.011</td> <td>   -0.419</td> <td> 0.676</td> <td>   -0.025</td> <td>    0.017</td>\n",
       "</tr>\n",
       "<tr>\n",
       "  <th>safety_stock</th> <td>    0.0001</td> <td>    0.000</td> <td>    0.794</td> <td> 0.429</td> <td>   -0.000</td> <td>    0.000</td>\n",
       "</tr>\n",
       "</table>\n",
       "<table class=\"simpletable\">\n",
       "<tr>\n",
       "  <th>Omnibus:</th>       <td>13.907</td> <th>  Durbin-Watson:     </th> <td>   1.986</td>\n",
       "</tr>\n",
       "<tr>\n",
       "  <th>Prob(Omnibus):</th> <td> 0.001</td> <th>  Jarque-Bera (JB):  </th> <td>  17.701</td>\n",
       "</tr>\n",
       "<tr>\n",
       "  <th>Skew:</th>          <td>-0.746</td> <th>  Prob(JB):          </th> <td>0.000143</td>\n",
       "</tr>\n",
       "<tr>\n",
       "  <th>Kurtosis:</th>      <td> 4.563</td> <th>  Cond. No.          </th> <td>1.67e+04</td>\n",
       "</tr>\n",
       "</table><br/><br/>Notes:<br/>[1] Standard Errors assume that the covariance matrix of the errors is correctly specified.<br/>[2] The condition number is large, 1.67e+04. This might indicate that there are<br/>strong multicollinearity or other numerical problems."
      ],
      "text/latex": [
       "\\begin{center}\n",
       "\\begin{tabular}{lclc}\n",
       "\\toprule\n",
       "\\textbf{Dep. Variable:}    & average\\_stock\\_level & \\textbf{  R-squared:         } &     0.311   \\\\\n",
       "\\textbf{Model:}            &          OLS          & \\textbf{  Adj. R-squared:    } &     0.279   \\\\\n",
       "\\textbf{Method:}           &     Least Squares     & \\textbf{  F-statistic:       } &     9.686   \\\\\n",
       "\\textbf{Date:}             &    Sun, 16 Jul 2023   & \\textbf{  Prob (F-statistic):} &  1.63e-06   \\\\\n",
       "\\textbf{Time:}             &        19:44:55       & \\textbf{  Log-Likelihood:    } &   -119.84   \\\\\n",
       "\\textbf{No. Observations:} &             91        & \\textbf{  AIC:               } &     249.7   \\\\\n",
       "\\textbf{Df Residuals:}     &             86        & \\textbf{  BIC:               } &     262.2   \\\\\n",
       "\\textbf{Df Model:}         &              4        & \\textbf{                     } &             \\\\\n",
       "\\textbf{Covariance Type:}  &       nonrobust       & \\textbf{                     } &             \\\\\n",
       "\\bottomrule\n",
       "\\end{tabular}\n",
       "\\begin{tabular}{lcccccc}\n",
       "                       & \\textbf{coef} & \\textbf{std err} & \\textbf{t} & \\textbf{P$> |$t$|$} & \\textbf{[0.025} & \\textbf{0.975]}  \\\\\n",
       "\\midrule\n",
       "\\textbf{Intercept}     &       6.5492  &        0.508     &    12.900  &         0.000        &        5.540    &        7.558     \\\\\n",
       "\\textbf{lot\\_size}     &       0.0218  &        0.017     &     1.271  &         0.207        &       -0.012    &        0.056     \\\\\n",
       "\\textbf{moq}           &       0.0003  &     5.51e-05     &     5.532  &         0.000        &        0.000    &        0.000     \\\\\n",
       "\\textbf{lead\\_time}    &      -0.0044  &        0.011     &    -0.419  &         0.676        &       -0.025    &        0.017     \\\\\n",
       "\\textbf{safety\\_stock} &       0.0001  &        0.000     &     0.794  &         0.429        &       -0.000    &        0.000     \\\\\n",
       "\\bottomrule\n",
       "\\end{tabular}\n",
       "\\begin{tabular}{lclc}\n",
       "\\textbf{Omnibus:}       & 13.907 & \\textbf{  Durbin-Watson:     } &    1.986  \\\\\n",
       "\\textbf{Prob(Omnibus):} &  0.001 & \\textbf{  Jarque-Bera (JB):  } &   17.701  \\\\\n",
       "\\textbf{Skew:}          & -0.746 & \\textbf{  Prob(JB):          } & 0.000143  \\\\\n",
       "\\textbf{Kurtosis:}      &  4.563 & \\textbf{  Cond. No.          } & 1.67e+04  \\\\\n",
       "\\bottomrule\n",
       "\\end{tabular}\n",
       "%\\caption{OLS Regression Results}\n",
       "\\end{center}\n",
       "\n",
       "Notes: \\newline\n",
       " [1] Standard Errors assume that the covariance matrix of the errors is correctly specified. \\newline\n",
       " [2] The condition number is large, 1.67e+04. This might indicate that there are \\newline\n",
       " strong multicollinearity or other numerical problems."
      ],
      "text/plain": [
       "<class 'statsmodels.iolib.summary.Summary'>\n",
       "\"\"\"\n",
       "                             OLS Regression Results                            \n",
       "===============================================================================\n",
       "Dep. Variable:     average_stock_level   R-squared:                       0.311\n",
       "Model:                             OLS   Adj. R-squared:                  0.279\n",
       "Method:                  Least Squares   F-statistic:                     9.686\n",
       "Date:                 Sun, 16 Jul 2023   Prob (F-statistic):           1.63e-06\n",
       "Time:                         19:44:55   Log-Likelihood:                -119.84\n",
       "No. Observations:                   91   AIC:                             249.7\n",
       "Df Residuals:                       86   BIC:                             262.2\n",
       "Df Model:                            4                                         \n",
       "Covariance Type:             nonrobust                                         \n",
       "================================================================================\n",
       "                   coef    std err          t      P>|t|      [0.025      0.975]\n",
       "--------------------------------------------------------------------------------\n",
       "Intercept        6.5492      0.508     12.900      0.000       5.540       7.558\n",
       "lot_size         0.0218      0.017      1.271      0.207      -0.012       0.056\n",
       "moq              0.0003   5.51e-05      5.532      0.000       0.000       0.000\n",
       "lead_time       -0.0044      0.011     -0.419      0.676      -0.025       0.017\n",
       "safety_stock     0.0001      0.000      0.794      0.429      -0.000       0.000\n",
       "==============================================================================\n",
       "Omnibus:                       13.907   Durbin-Watson:                   1.986\n",
       "Prob(Omnibus):                  0.001   Jarque-Bera (JB):               17.701\n",
       "Skew:                          -0.746   Prob(JB):                     0.000143\n",
       "Kurtosis:                       4.563   Cond. No.                     1.67e+04\n",
       "==============================================================================\n",
       "\n",
       "Notes:\n",
       "[1] Standard Errors assume that the covariance matrix of the errors is correctly specified.\n",
       "[2] The condition number is large, 1.67e+04. This might indicate that there are\n",
       "strong multicollinearity or other numerical problems.\n",
       "\"\"\""
      ]
     },
     "execution_count": 22,
     "metadata": {},
     "output_type": "execute_result"
    },
    {
     "data": {
      "text/plain": [
       "[('Lagrange multiplier statistic', 7.490282794323846),\n",
       " ('p-value', 0.11213854464909165),\n",
       " ('f-value', 1.9284112731615954),\n",
       " ('f p-value', 0.11295533206481415)]"
      ]
     },
     "execution_count": 22,
     "metadata": {},
     "output_type": "execute_result"
    }
   ],
   "source": [
    "for dataset_name, dataset in datasets.items():\n",
    "    for dependent_variable in list_of_dependant_variables:\n",
    "        \n",
    "        \"dataset: \" + dataset_name\n",
    "        \"dependent_variable: \" + dependent_variable\n",
    "\n",
    "        model = smf.ols(f\"{dependent_variable} ~  lot_size + moq + lead_time + safety_stock \", data= dataset).fit()\n",
    "\n",
    "        \n",
    "\n",
    "        model.summary()\n",
    "\n",
    "        ##  Breusch-Pagan Test\n",
    "        name = ['Lagrange multiplier statistic', 'p-value', \n",
    "                'f-value', 'f p-value']\n",
    "        test = sms.het_breuschpagan(model.resid, model.model.exog)\n",
    "        lzip(name, test)"
   ]
  },
  {
   "attachments": {},
   "cell_type": "markdown",
   "metadata": {},
   "source": [
    "## correlation/ No Multicollinearity"
   ]
  },
  {
   "cell_type": "code",
   "execution_count": 23,
   "metadata": {},
   "outputs": [
    {
     "data": {
      "text/plain": [
       "'dataset: slob_only_log'"
      ]
     },
     "execution_count": 23,
     "metadata": {},
     "output_type": "execute_result"
    },
    {
     "data": {
      "text/plain": [
       "'dependent_variable: average_stock_level'"
      ]
     },
     "execution_count": 23,
     "metadata": {},
     "output_type": "execute_result"
    },
    {
     "data": {
      "text/html": [
       "<div>\n",
       "<style scoped>\n",
       "    .dataframe tbody tr th:only-of-type {\n",
       "        vertical-align: middle;\n",
       "    }\n",
       "\n",
       "    .dataframe tbody tr th {\n",
       "        vertical-align: top;\n",
       "    }\n",
       "\n",
       "    .dataframe thead th {\n",
       "        text-align: right;\n",
       "    }\n",
       "</style>\n",
       "<table border=\"1\" class=\"dataframe\">\n",
       "  <thead>\n",
       "    <tr style=\"text-align: right;\">\n",
       "      <th></th>\n",
       "      <th>average_stock_level</th>\n",
       "      <th>lot_size</th>\n",
       "      <th>moq</th>\n",
       "      <th>lead_time</th>\n",
       "      <th>safety_stock</th>\n",
       "    </tr>\n",
       "  </thead>\n",
       "  <tbody>\n",
       "    <tr>\n",
       "      <th>average_stock_level</th>\n",
       "      <td>1.000000</td>\n",
       "      <td>0.140404</td>\n",
       "      <td>0.536808</td>\n",
       "      <td>0.035098</td>\n",
       "      <td>0.229304</td>\n",
       "    </tr>\n",
       "    <tr>\n",
       "      <th>lot_size</th>\n",
       "      <td>0.140404</td>\n",
       "      <td>1.000000</td>\n",
       "      <td>0.022069</td>\n",
       "      <td>-0.093593</td>\n",
       "      <td>0.130357</td>\n",
       "    </tr>\n",
       "    <tr>\n",
       "      <th>moq</th>\n",
       "      <td>0.536808</td>\n",
       "      <td>0.022069</td>\n",
       "      <td>1.000000</td>\n",
       "      <td>0.141762</td>\n",
       "      <td>0.278536</td>\n",
       "    </tr>\n",
       "    <tr>\n",
       "      <th>lead_time</th>\n",
       "      <td>0.035098</td>\n",
       "      <td>-0.093593</td>\n",
       "      <td>0.141762</td>\n",
       "      <td>1.000000</td>\n",
       "      <td>0.142498</td>\n",
       "    </tr>\n",
       "    <tr>\n",
       "      <th>safety_stock</th>\n",
       "      <td>0.229304</td>\n",
       "      <td>0.130357</td>\n",
       "      <td>0.278536</td>\n",
       "      <td>0.142498</td>\n",
       "      <td>1.000000</td>\n",
       "    </tr>\n",
       "  </tbody>\n",
       "</table>\n",
       "</div>"
      ],
      "text/plain": [
       "                     average_stock_level  lot_size       moq  lead_time   \n",
       "average_stock_level             1.000000  0.140404  0.536808   0.035098  \\\n",
       "lot_size                        0.140404  1.000000  0.022069  -0.093593   \n",
       "moq                             0.536808  0.022069  1.000000   0.141762   \n",
       "lead_time                       0.035098 -0.093593  0.141762   1.000000   \n",
       "safety_stock                    0.229304  0.130357  0.278536   0.142498   \n",
       "\n",
       "                     safety_stock  \n",
       "average_stock_level      0.229304  \n",
       "lot_size                 0.130357  \n",
       "moq                      0.278536  \n",
       "lead_time                0.142498  \n",
       "safety_stock             1.000000  "
      ]
     },
     "execution_count": 23,
     "metadata": {},
     "output_type": "execute_result"
    }
   ],
   "source": [
    "for dataset_name, dataset in datasets.items():\n",
    "    for dependent_variable in list_of_dependant_variables:\n",
    "        \n",
    "        \"dataset: \" + dataset_name\n",
    "        \"dependent_variable: \" + dependent_variable\n",
    "\n",
    "        dataset[[dependent_variable] + list_of_independant_variables].corr()"
   ]
  },
  {
   "cell_type": "code",
   "execution_count": 24,
   "metadata": {},
   "outputs": [
    {
     "data": {
      "text/plain": [
       "<Figure size 1000x500 with 0 Axes>"
      ]
     },
     "execution_count": 24,
     "metadata": {},
     "output_type": "execute_result"
    },
    {
     "data": {
      "text/plain": [
       "<Axes: >"
      ]
     },
     "execution_count": 24,
     "metadata": {},
     "output_type": "execute_result"
    },
    {
     "name": "stdout",
     "output_type": "stream",
     "text": [
      "      Variable       VIF\n",
      "0     lot_size  4.059399\n",
      "1          moq  3.561136\n",
      "2  consumption  2.203712\n",
      "3    lead_time  5.550757\n"
     ]
    },
    {
     "data": {
      "image/png": "[encoded data removed]",
      "text/plain": [
       "<Figure size 1000x500 with 2 Axes>"
      ]
     },
     "metadata": {},
     "output_type": "display_data"
    }
   ],
   "source": [
    "plt.figure(figsize=(10,5))\n",
    "sns.heatmap(dataset[[ 'average_stock_level', 'lot_size', 'moq','lead_time', 'safety_stock' ]].corr(),vmin=-1,annot= True)\n",
    "\n",
    "from statsmodels.stats.outliers_influence import variance_inflation_factor\n",
    "\n",
    "# Assuming you have a DataFrame named 'dataset' containing the relevant columns\n",
    "\n",
    "# Create a DataFrame with the selected variables\n",
    "selected_vars = dataset[['lot_size', 'moq', 'consumption', 'lead_time']]\n",
    "\n",
    "# Calculate the VIF for each variable\n",
    "vif = pd.DataFrame()\n",
    "vif[\"Variable\"] = selected_vars.columns\n",
    "vif[\"VIF\"] = [variance_inflation_factor(selected_vars.values, i) for i in range(selected_vars.shape[1])]\n",
    "\n",
    "# Display the VIF values\n",
    "print(vif)"
   ]
  },
  {
   "cell_type": "code",
   "execution_count": null,
   "metadata": {},
   "outputs": [],
   "source": []
  }
 ],
 "metadata": {
  "kernelspec": {
   "display_name": "Python 3",
   "language": "python",
   "name": "python3"
  },
  "language_info": {
   "codemirror_mode": {
    "name": "ipython",
    "version": 3
   },
   "file_extension": ".py",
   "mimetype": "text/x-python",
   "name": "python",
   "nbconvert_exporter": "python",
   "pygments_lexer": "ipython3",
   "version": "3.11.3"
  },
  "orig_nbformat": 4
 },
 "nbformat": 4,
 "nbformat_minor": 2
}
